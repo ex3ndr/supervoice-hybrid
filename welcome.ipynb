{
 "cells": [
  {
   "cell_type": "code",
   "execution_count": 1,
   "id": "b925547b-ae92-4eee-a27f-e4b4a8bd97f9",
   "metadata": {},
   "outputs": [],
   "source": [
    "import torch\n",
    "from supervoice_hybrid import UnitTextTokenizer"
   ]
  },
  {
   "cell_type": "code",
   "execution_count": 2,
   "id": "0ec549f0-b39b-4d29-b588-609edb1dde9d",
   "metadata": {},
   "outputs": [
    {
     "name": "stderr",
     "output_type": "stream",
     "text": [
      "Using the cached tokenizer of nar_t2u_aligner. Set `force` to `True` to download again.\n"
     ]
    }
   ],
   "source": [
    "tokenizer = UnitTextTokenizer()"
   ]
  },
  {
   "cell_type": "code",
   "execution_count": 7,
   "id": "b20b3e5b-e158-4844-9247-8ddc40dd827d",
   "metadata": {},
   "outputs": [
    {
     "name": "stdout",
     "output_type": "stream",
     "text": [
      "tensor([ 42,  58,  43,  47, 237,  42, 475, 475, 480, 128])\n",
      "tensor([ 42, 189, 470,  47, 237,  42, 475, 475, 480, 128])\n"
     ]
    }
   ],
   "source": [
    "print(tokenizer.encode(\"get! 667?\"))\n",
    "print(tokenizer.encode(\"гэt! 667?\"))"
   ]
  },
  {
   "cell_type": "code",
   "execution_count": null,
   "id": "63c6a5f1-24ab-404d-a82d-091f087fa8e5",
   "metadata": {},
   "outputs": [],
   "source": []
  }
 ],
 "metadata": {
  "kernelspec": {
   "display_name": "Python 3 (ipykernel)",
   "language": "python",
   "name": "python3"
  },
  "language_info": {
   "codemirror_mode": {
    "name": "ipython",
    "version": 3
   },
   "file_extension": ".py",
   "mimetype": "text/x-python",
   "name": "python",
   "nbconvert_exporter": "python",
   "pygments_lexer": "ipython3",
   "version": "3.10.14"
  }
 },
 "nbformat": 4,
 "nbformat_minor": 5
}
