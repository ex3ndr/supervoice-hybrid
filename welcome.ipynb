{
 "cells": [
  {
   "cell_type": "code",
   "execution_count": 1,
   "id": "b925547b-ae92-4eee-a27f-e4b4a8bd97f9",
   "metadata": {},
   "outputs": [
    {
     "name": "stderr",
     "output_type": "stream",
     "text": [
      "/home/steve/miniconda3/envs/gym/lib/python3.10/site-packages/xformers/ops/fmha/flash.py:211: FutureWarning: `torch.library.impl_abstract` was renamed to `torch.library.register_fake`. Please use that instead; we will remove `torch.library.impl_abstract` in a future version of PyTorch.\n",
      "  @torch.library.impl_abstract(\"xformers_flash::flash_fwd\")\n",
      "/home/steve/miniconda3/envs/gym/lib/python3.10/site-packages/xformers/ops/fmha/flash.py:344: FutureWarning: `torch.library.impl_abstract` was renamed to `torch.library.register_fake`. Please use that instead; we will remove `torch.library.impl_abstract` in a future version of PyTorch.\n",
      "  @torch.library.impl_abstract(\"xformers_flash::flash_bwd\")\n"
     ]
    }
   ],
   "source": [
    "import torch\n",
    "import random\n",
    "from supervoice_hybrid import SupervoceHybridStage1, SentencePieceTextTokenizer\n",
    "from train.dataset import load_sampler, create_async_loader"
   ]
  },
  {
   "cell_type": "code",
   "execution_count": 2,
   "id": "0ec549f0-b39b-4d29-b588-609edb1dde9d",
   "metadata": {},
   "outputs": [],
   "source": [
    "tokenizer = SentencePieceTextTokenizer(\"./tokenizer_text.model\")\n",
    "train_sampler = load_sampler(\"./external_datasets/libriheavy/libriheavy_cuts_small.jsonl.gz\", \"./external_datasets/libriheavy-encodec/\", 1, tokenizer)\n",
    "model = SupervoceHybridStage1().cuda()"
   ]
  },
  {
   "cell_type": "code",
   "execution_count": 3,
   "id": "ff52938d-1dfe-4b8b-b28c-3e495b95076e",
   "metadata": {},
   "outputs": [
    {
     "name": "stderr",
     "output_type": "stream",
     "text": [
      "/data/notebooks/supervoice-hybrid/train/dataset.py:42: FutureWarning: You are using `torch.load` with `weights_only=False` (the current default value), which uses the default pickle module implicitly. It is possible to construct malicious pickle data which will execute arbitrary code during unpickling (See https://github.com/pytorch/pytorch/blob/main/SECURITY.md#untrusted-models for more details). In a future release, the default value for `weights_only` will be flipped to `True`. This limits the functions that could be executed during unpickling. Arbitrary objects will no longer be allowed to be loaded via this mode unless they are explicitly allowlisted by the user via `torch.serialization.add_safe_globals`. We recommend you start setting `weights_only=True` for any use case where you don't have full control of the loaded file. Please open an issue on GitHub for any issues related to this experimental feature.\n",
      "  encoded = torch.load(dir + id + \".pt\")\n"
     ]
    }
   ],
   "source": [
    "audio, text = train_sampler()"
   ]
  },
  {
   "cell_type": "code",
   "execution_count": 4,
   "id": "ba56d730-0609-4e38-9e62-bb5edb8aaa68",
   "metadata": {},
   "outputs": [
    {
     "name": "stdout",
     "output_type": "stream",
     "text": [
      "1314\n"
     ]
    }
   ],
   "source": [
    "min_duration = 75 * 3\n",
    "max_duration = audio[0].shape[1] // 2 \n",
    "if max_duration > min_duration:\n",
    "    audio_split = random.randint(min_duration, max_duration)\n",
    "else:\n",
    "    audio_split = max_duration\n",
    "\n",
    "text_condition = text[0].cuda()\n",
    "audio_condition = audio[0][0, :audio_split].cuda()\n",
    "audio_target = audio[0][0, audio_split:].cuda()\n",
    "duration = audio[0].shape[1]\n",
    "print(duration)"
   ]
  },
  {
   "cell_type": "code",
   "execution_count": 5,
   "id": "24e6c5ea-0da2-4e91-b3d0-25012946b0b4",
   "metadata": {},
   "outputs": [
    {
     "data": {
      "text/plain": [
       "([tensor([[ 0.5083, -0.2311, -0.1917,  ..., -1.2790,  0.6167, -0.4385],\n",
       "          [ 0.5598, -0.2643,  0.1663,  ..., -0.6868, -0.0769,  0.0515],\n",
       "          [ 0.1374, -0.5194, -0.2495,  ..., -1.0727,  0.8693,  0.0616],\n",
       "          ...,\n",
       "          [ 0.3572, -0.5310,  0.0056,  ..., -0.7215,  0.7556,  0.0211],\n",
       "          [ 0.1467, -0.6556, -0.0912,  ..., -0.7694,  0.3761, -0.2830],\n",
       "          [ 0.0910, -0.4948,  0.2226,  ..., -0.8881,  0.6297, -0.3353]],\n",
       "         device='cuda:0', grad_fn=<SliceBackward0>),\n",
       "  tensor([[ 0.0122, -0.5449,  0.2809,  ..., -0.7592,  0.5439,  0.1813],\n",
       "          [-0.3995, -0.0757, -0.1816,  ..., -0.6545,  0.8208, -0.0491],\n",
       "          [-0.1075, -0.2603,  0.2627,  ..., -0.9913,  0.7549,  0.1915],\n",
       "          ...,\n",
       "          [ 0.7413, -0.2365, -0.1692,  ..., -0.2585,  0.9345,  0.1284],\n",
       "          [ 0.6108, -0.5515, -0.0164,  ..., -0.9712,  0.3632,  0.1100],\n",
       "          [ 0.7302, -0.3976, -0.5803,  ..., -0.8271,  0.2106,  0.0832]],\n",
       "         device='cuda:0', grad_fn=<SliceBackward0>)],\n",
       " tensor(7.0377, device='cuda:0', grad_fn=<NllLossBackward0>))"
      ]
     },
     "execution_count": 5,
     "metadata": {},
     "output_type": "execute_result"
    }
   ],
   "source": [
    "model(condition_text = [text_condition, text_condition], condition_audio = [audio_condition, audio_condition], duration=[duration, duration], target = [audio_target, audio_target])"
   ]
  },
  {
   "cell_type": "code",
   "execution_count": 6,
   "id": "d919f8f2-eb50-46bb-8f93-5ea2f588b4b0",
   "metadata": {},
   "outputs": [
    {
     "data": {
      "text/plain": [
       "tensor([[0., 0., 0.,  ..., -inf, -inf, -inf],\n",
       "        [0., 0., 0.,  ..., -inf, -inf, -inf],\n",
       "        [0., 0., 0.,  ..., -inf, -inf, -inf],\n",
       "        ...,\n",
       "        [-inf, -inf, -inf,  ..., 0., 0., 0.],\n",
       "        [-inf, -inf, -inf,  ..., 0., 0., 0.],\n",
       "        [-inf, -inf, -inf,  ..., 0., 0., 0.]])"
      ]
     },
     "execution_count": 6,
     "metadata": {},
     "output_type": "execute_result"
    }
   ],
   "source": [
    "from xformers.ops import fmha\n",
    "fmha.BlockDiagonalMask.from_seqlens([duration, duration]).materialize([duration * 2, duration * 2])"
   ]
  },
  {
   "cell_type": "code",
   "execution_count": null,
   "id": "9efac3a6-bc8f-4cc5-9687-11b34647692e",
   "metadata": {},
   "outputs": [],
   "source": []
  }
 ],
 "metadata": {
  "kernelspec": {
   "display_name": "Python 3 (ipykernel)",
   "language": "python",
   "name": "python3"
  },
  "language_info": {
   "codemirror_mode": {
    "name": "ipython",
    "version": 3
   },
   "file_extension": ".py",
   "mimetype": "text/x-python",
   "name": "python",
   "nbconvert_exporter": "python",
   "pygments_lexer": "ipython3",
   "version": "3.10.14"
  }
 },
 "nbformat": 4,
 "nbformat_minor": 5
}
